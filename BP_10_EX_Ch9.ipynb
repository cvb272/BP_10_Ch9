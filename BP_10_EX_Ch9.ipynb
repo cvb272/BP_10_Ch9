{
  "nbformat": 4,
  "nbformat_minor": 0,
  "metadata": {
    "colab": {
      "provenance": [],
      "authorship_tag": "ABX9TyPD6tss3G2nWvjcM5uJF1P3",
      "include_colab_link": true
    },
    "kernelspec": {
      "name": "python3",
      "display_name": "Python 3"
    },
    "language_info": {
      "name": "python"
    }
  },
  "cells": [
    {
      "cell_type": "markdown",
      "metadata": {
        "id": "view-in-github",
        "colab_type": "text"
      },
      "source": [
        "<a href=\"https://colab.research.google.com/github/cvb272/BP_10_Ch9/blob/main/BP_10_EX_Ch9.ipynb\" target=\"_parent\"><img src=\"https://colab.research.google.com/assets/colab-badge.svg\" alt=\"Open In Colab\"/></a>"
      ]
    },
    {
      "cell_type": "code",
      "execution_count": null,
      "metadata": {
        "colab": {
          "base_uri": "https://localhost:8080/"
        },
        "id": "YNavxelTD2Ap",
        "outputId": "427faa99-50fe-4035-e5a0-eaa0ceeab6e0"
      },
      "outputs": [
        {
          "output_type": "stream",
          "name": "stdout",
          "text": [
            "정수를 입력하시오: 10\n",
            "정수를 입력하시오: 20\n",
            "정수를 입력하시오: 30\n",
            "정수를 입력하시오: 40\n",
            "정수를 입력하시오: 50\n",
            "평균= 30.0\n"
          ]
        }
      ],
      "source": [
        "alist = []\n",
        "sum = 0\n",
        "\n",
        "for i in range(5):\n",
        "    i = int(input(\"정수를 입력하시오: \"))\n",
        "    alist.append(i)\n",
        "\n",
        "for i in alist:\n",
        "    sum += i\n",
        "avg = sum/len(alist)\n",
        "print(\"평균=\", avg)"
      ]
    },
    {
      "cell_type": "code",
      "source": [
        "import random\n",
        "counters = [0, 0, 0, 0, 0, 0]\n",
        "\n",
        "for i in range(1000):\n",
        "       value = random.randint(0, 5)\n",
        "       counters[value] = counters[value] + 1\n",
        "\n",
        "for i in range(6) :\n",
        "       print(\"주사위가 \", i+1, \"인 경우는 \", counters[i], \"번\")"
      ],
      "metadata": {
        "colab": {
          "base_uri": "https://localhost:8080/"
        },
        "id": "0CfbD7lpGlK2",
        "outputId": "392780a1-a3aa-48c7-9b9c-098ec6455edb"
      },
      "execution_count": null,
      "outputs": [
        {
          "output_type": "stream",
          "name": "stdout",
          "text": [
            "주사위가  1 인 경우는  156 번\n",
            "주사위가  2 인 경우는  177 번\n",
            "주사위가  3 인 경우는  165 번\n",
            "주사위가  4 인 경우는  163 번\n",
            "주사위가  5 인 경우는  176 번\n",
            "주사위가  6 인 경우는  163 번\n"
          ]
        }
      ]
    },
    {
      "cell_type": "code",
      "source": [
        "contacts = {}\n",
        "\n",
        "while True: \n",
        "       name = input(\"(입력모드)이름을 입력하시오: \")\n",
        "       if not name:\n",
        "              break;\n",
        "       tel = input(\"전화번호를 입력하시오: \")\n",
        "       contacts[name] = tel\n",
        "\n",
        "while True:\n",
        "       name = input(\"(검색모드)이름을 입력하시오: \")\n",
        "       if not name:\n",
        "              break;\n",
        "       if name in contacts :\n",
        "              print(name, \"의 전화번호는\", contacts[name], \"입니다.\")\n"
      ],
      "metadata": {
        "colab": {
          "base_uri": "https://localhost:8080/"
        },
        "id": "TZUxvyZ-Gvde",
        "outputId": "f5c2944a-9445-4636-bda3-3394628a8380"
      },
      "execution_count": null,
      "outputs": [
        {
          "name": "stdout",
          "output_type": "stream",
          "text": [
            "(입력모드)이름을 입력하시오: 홍길동\n",
            "전화번호를 입력하시오: 111-2222\n",
            "(입력모드)이름을 입력하시오: 길철수\n",
            "전화번호를 입력하시오: 222-3333\n",
            "(입력모드)이름을 입력하시오: \n",
            "(검색모드)이름을 입력하시오: 홍길동\n",
            "홍길동 의 전화번호는 111-2222 입니다.\n",
            "(검색모드)이름을 입력하시오: \n"
          ]
        }
      ]
    },
    {
      "cell_type": "code",
      "source": [
        "domains = { \"kr\": \"대한민국\", \"us\": \"미국\",\"jp\": \"일본\", \"de\": \"독일\", \"sk\": \"슬로바키아\", \"hu\": \"헝가리\", \"no\": \"노르웨이\"}\n",
        "\n",
        "for k, v in domains.items():\n",
        "    print (k, \": \", v)"
      ],
      "metadata": {
        "colab": {
          "base_uri": "https://localhost:8080/"
        },
        "id": "nQTyAaWXLNiW",
        "outputId": "454b3855-b721-4fdb-f077-3b8d881b991e"
      },
      "execution_count": null,
      "outputs": [
        {
          "output_type": "stream",
          "name": "stdout",
          "text": [
            "kr :  대한민국\n",
            "us :  미국\n",
            "jp :  일본\n",
            "de :  독일\n",
            "sk :  슬로바키아\n",
            "hu :  헝가리\n",
            "no :  노르웨이\n"
          ]
        }
      ]
    },
    {
      "cell_type": "code",
      "source": [
        "problems = {'파이썬': '최근에 가장 떠오르는 프로그래밍 언어',\n",
        " '변수': '데이터를 저장하는 메모리 공간',\n",
        " '함수': '작업을 수행하는 문장들의 집합에 이름을 붙인것',\n",
        " '리스트': '서로 관련이 없는 항목들의 모임',}\n",
        "\n",
        "def show_words(problems):\n",
        "     display_message = \"\"\n",
        "     i=1\n",
        "     for word in problems.keys():\n",
        "         display_message += \"(\"+str(i)+\")\"\n",
        "         display_message += word + \" \"\n",
        "         i+=1\n",
        "     print( display_message)\n",
        "     \n",
        "for meaning in problems.values():\n",
        "    print(\"다음은 어떤 단어에 대한 설명일까요? \")\n",
        "    print(\"\\\"\"+meaning+\"\\\"\")\n",
        "    correct = False\n",
        "    while not correct:\n",
        "        show_words(problems)\n",
        "        guessed_word = input(\"\")\n",
        "        if problems[guessed_word] == meaning:\n",
        "            print(\"정답입니다. !\")\n",
        "            correct = True\n",
        "        else:\n",
        "           print(\"정답이 아닙니다.\")"
      ],
      "metadata": {
        "colab": {
          "base_uri": "https://localhost:8080/"
        },
        "id": "S_Oo6tpoPtVl",
        "outputId": "f864a770-911a-4280-e2f6-9b652fd0fea5"
      },
      "execution_count": 4,
      "outputs": [
        {
          "output_type": "stream",
          "name": "stdout",
          "text": [
            "다음은 어떤 단어에 대한 설명일까요? \n",
            "\"최근에 가장 떠오르는 프로그래밍 언어\"\n",
            "(1)파이썬 (2)변수 (3)함수 (4)리스트 \n",
            "파이썬\n",
            "정답입니다. !\n",
            "다음은 어떤 단어에 대한 설명일까요? \n",
            "\"데이터를 저장하는 메모리 공간\"\n",
            "(1)파이썬 (2)변수 (3)함수 (4)리스트 \n",
            "변수\n",
            "정답입니다. !\n",
            "다음은 어떤 단어에 대한 설명일까요? \n",
            "\"작업을 수행하는 문장들의 집합에 이름을 붙인것\"\n",
            "(1)파이썬 (2)변수 (3)함수 (4)리스트 \n",
            "함수\n",
            "정답입니다. !\n",
            "다음은 어떤 단어에 대한 설명일까요? \n",
            "\"서로 관련이 없는 항목들의 모임\"\n",
            "(1)파이썬 (2)변수 (3)함수 (4)리스트 \n",
            "리스트\n",
            "정답입니다. !\n"
          ]
        }
      ]
    }
  ]
}